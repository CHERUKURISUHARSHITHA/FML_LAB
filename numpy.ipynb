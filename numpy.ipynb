{
  "nbformat": 4,
  "nbformat_minor": 0,
  "metadata": {
    "colab": {
      "provenance": [],
      "authorship_tag": "ABX9TyNpu3vu2OwebCivo1qnSqFn",
      "include_colab_link": true
    },
    "kernelspec": {
      "name": "python3",
      "display_name": "Python 3"
    },
    "language_info": {
      "name": "python"
    }
  },
  "cells": [
    {
      "cell_type": "markdown",
      "metadata": {
        "id": "view-in-github",
        "colab_type": "text"
      },
      "source": [
        "<a href=\"https://colab.research.google.com/github/CHERUKURISUHARSHITHA/FML_LAB/blob/main/numpy.ipynb\" target=\"_parent\"><img src=\"https://colab.research.google.com/assets/colab-badge.svg\" alt=\"Open In Colab\"/></a>"
      ]
    },
    {
      "cell_type": "code",
      "execution_count": null,
      "metadata": {
        "colab": {
          "base_uri": "https://localhost:8080/"
        },
        "id": "XISoIZLR1vMY",
        "outputId": "a7e24404-6a03-434a-c3f6-53456dbfe0de"
      },
      "outputs": [
        {
          "output_type": "stream",
          "name": "stdout",
          "text": [
            "<class 'numpy.ndarray'>\n"
          ]
        }
      ],
      "source": [
        "import numpy as np\n",
        "a=np.array([1,2,3])\n",
        "print(type(a))"
      ]
    },
    {
      "cell_type": "code",
      "source": [
        "import numpy as np\n",
        "a=np.array([1,2,3])\n",
        "print(a.shape)"
      ],
      "metadata": {
        "colab": {
          "base_uri": "https://localhost:8080/"
        },
        "id": "QyCnpyrz_C1Z",
        "outputId": "1518edf5-e606-40dd-c17d-c7eb5fe6cb3d"
      },
      "execution_count": null,
      "outputs": [
        {
          "output_type": "stream",
          "name": "stdout",
          "text": [
            "(3,)\n"
          ]
        }
      ]
    },
    {
      "cell_type": "code",
      "source": [
        "import numpy as np\n",
        "a=np.array([[1,2,3,4],[5,6,7,8]])\n",
        "b=a[:2,1:3]\n",
        "print(b)"
      ],
      "metadata": {
        "colab": {
          "base_uri": "https://localhost:8080/"
        },
        "id": "HCWAQPQCAlAA",
        "outputId": "c7c3ddc6-83f7-48d6-872c-55cbbcb1188f"
      },
      "execution_count": null,
      "outputs": [
        {
          "output_type": "stream",
          "name": "stdout",
          "text": [
            "[[2 3]\n",
            " [6 7]]\n"
          ]
        }
      ]
    },
    {
      "cell_type": "code",
      "source": [
        "import numpy as np\n",
        "a=np.array([[1,2,3,4],[6,7,8,9]])\n",
        "print(a[0,1])\n",
        "b=np.array([[2,4,6,8],[1,3,5,7]])\n",
        "print(b[0,0])"
      ],
      "metadata": {
        "colab": {
          "base_uri": "https://localhost:8080/"
        },
        "id": "dkIL6AUIBWqm",
        "outputId": "ea65fde3-bb42-4568-9eba-11ff0b98fbd6"
      },
      "execution_count": null,
      "outputs": [
        {
          "output_type": "stream",
          "name": "stdout",
          "text": [
            "2\n",
            "2\n"
          ]
        }
      ]
    },
    {
      "cell_type": "code",
      "source": [
        "import numpy as np\n",
        "a=np.array([[4,6],[7,11]])\n",
        "print(a)\n",
        "row_1=a[1,:]\n",
        "row_2=a[1:0,:]\n",
        "col_1=a[:,1]\n",
        "col_2=a[:,1:0]\n",
        "print(row_1,row_1.shape)\n",
        "print(row_2,row_2.shape)\n",
        "print(col_1,col_1.shape)\n",
        "print(col_2,col_2.shape)\n"
      ],
      "metadata": {
        "colab": {
          "base_uri": "https://localhost:8080/"
        },
        "id": "KM7L2tzGCKcp",
        "outputId": "c997744a-db81-45f9-dfbc-3ec5d3046d55"
      },
      "execution_count": null,
      "outputs": [
        {
          "output_type": "stream",
          "name": "stdout",
          "text": [
            "[[ 4  6]\n",
            " [ 7 11]]\n",
            "[ 7 11] (2,)\n",
            "[] (0, 2)\n",
            "[ 6 11] (2,)\n",
            "[] (2, 0)\n"
          ]
        }
      ]
    },
    {
      "cell_type": "code",
      "source": [
        "import numpy as np\n",
        "a=np.array([[1,2,3,4],[6,7,8,9]])\n",
        "b=np.array([[1,4,3,4],[4,6,7,11]])\n"
      ],
      "metadata": {
        "colab": {
          "base_uri": "https://localhost:8080/"
        },
        "id": "8iDNf2uvG9ru",
        "outputId": "6ccd0178-b5af-48dc-a968-e1171c513b3e"
      },
      "execution_count": null,
      "outputs": [
        {
          "output_type": "stream",
          "name": "stdout",
          "text": [
            "[[1. 0.]\n",
            " [0. 1.]]\n"
          ]
        }
      ]
    },
    {
      "cell_type": "code",
      "source": [],
      "metadata": {
        "id": "s95ub9SuK9n0"
      },
      "execution_count": null,
      "outputs": []
    },
    {
      "cell_type": "code",
      "source": [
        "import numpy as np\n",
        "a=([[1,2,3,4],[5,6,7,8]])\n",
        "b=([[2,4,7,5],[8,4,1,9]])\n",
        "print(a+b)\n",
        "print(np.add(a,b))\n"
      ],
      "metadata": {
        "colab": {
          "base_uri": "https://localhost:8080/"
        },
        "id": "pFhbzeg9LvSx",
        "outputId": "843a6296-0c1f-4c5d-99f3-4e4c549ed9e2"
      },
      "execution_count": null,
      "outputs": [
        {
          "output_type": "stream",
          "name": "stdout",
          "text": [
            "[[1, 2, 3, 4], [5, 6, 7, 8], [2, 4, 7, 5], [8, 4, 1, 9]]\n",
            "[[ 3  6 10  9]\n",
            " [13 10  8 17]]\n"
          ]
        }
      ]
    },
    {
      "cell_type": "code",
      "source": [
        "e=np.random.random((11,7))\n",
        "print(e)"
      ],
      "metadata": {
        "colab": {
          "base_uri": "https://localhost:8080/"
        },
        "id": "qUbV4q8dN4HR",
        "outputId": "88b7b2c1-82bd-4f45-872e-c1da9b22b73d"
      },
      "execution_count": null,
      "outputs": [
        {
          "output_type": "stream",
          "name": "stdout",
          "text": [
            "[[0.0329454  0.9669909  0.27887012 0.86106839 0.46472591 0.74205933\n",
            "  0.14869822]\n",
            " [0.93674475 0.73573397 0.4164404  0.87350922 0.82892999 0.09351251\n",
            "  0.07954355]\n",
            " [0.73450494 0.90793193 0.42831597 0.45757871 0.15641602 0.23175827\n",
            "  0.06125469]\n",
            " [0.44654724 0.11843416 0.71318387 0.23575497 0.61112025 0.01905608\n",
            "  0.62964858]\n",
            " [0.64962247 0.70100059 0.34775807 0.96643148 0.90971055 0.530834\n",
            "  0.26825277]\n",
            " [0.4997564  0.087357   0.03228323 0.87613098 0.91625444 0.77246913\n",
            "  0.80822291]\n",
            " [0.82098851 0.21295223 0.78682313 0.15763209 0.01523793 0.57467108\n",
            "  0.60836052]\n",
            " [0.89332775 0.39276379 0.38014153 0.54404455 0.90854788 0.1215364\n",
            "  0.04577671]\n",
            " [0.6526883  0.29328397 0.1738122  0.85600698 0.78702037 0.76825155\n",
            "  0.98346405]\n",
            " [0.47047792 0.84214804 0.93780571 0.48541343 0.00249336 0.220802\n",
            "  0.24519851]\n",
            " [0.39793241 0.18525378 0.21296166 0.89696284 0.24265479 0.88047919\n",
            "  0.91615407]]\n"
          ]
        }
      ]
    },
    {
      "cell_type": "code",
      "source": [
        "z=np.eye(2)\n",
        "print(z)\n"
      ],
      "metadata": {
        "colab": {
          "base_uri": "https://localhost:8080/"
        },
        "id": "Q18Z2rWdKN4d",
        "outputId": "fee9fa5e-5e4b-4e43-f766-8ec803a0ca29"
      },
      "execution_count": null,
      "outputs": [
        {
          "output_type": "stream",
          "name": "stdout",
          "text": [
            "[[1. 0.]\n",
            " [0. 1.]]\n"
          ]
        }
      ]
    },
    {
      "cell_type": "code",
      "source": [
        "import numpy as np\n"
      ],
      "metadata": {
        "id": "nYW2_rRwSmH3"
      },
      "execution_count": null,
      "outputs": []
    }
  ]
}